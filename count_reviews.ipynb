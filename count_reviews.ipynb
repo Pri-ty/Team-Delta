{
 "cells": [
  {
   "cell_type": "code",
   "execution_count": 5,
   "metadata": {},
   "outputs": [
    {
     "name": "stdout",
     "output_type": "stream",
     "text": [
      "intel_12_i3_1.csv: 99 entries\n",
      "intel_12_i3_2.csv: 43 entries\n",
      "intel_12_i3_unlocked_discrete_graphics_1.csv: 100 entries\n",
      "intel_12_i3_unlocked_discrete_graphics_2.csv: 100 entries\n",
      "intel_12_i5.csv: 100 entries\n",
      "intel_12_i5_unlocked.csv: 100 entries\n",
      "intel_12_i5_unlocked_discrete_graphics_1.csv: 100 entries\n",
      "intel_12_i5_unlocked_discrete_graphics_2.csv: 100 entries\n",
      "intel_12_i7.csv: 52 entries\n",
      "intel_12_i7_unlocked.csv: 100 entries\n",
      "intel_12_i7_unlocked_discrete_graphics.csv: 9 entries\n",
      "intel_12_i9.csv: 100 entries\n",
      "intel_13_i3_1.csv: 20 entries\n",
      "intel_13_i3_2.csv: 15 entries\n",
      "intel_13_i5.csv: 99 entries\n",
      "intel_13_i5_unlocked.csv: 100 entries\n",
      "intel_13_i7.csv: 15 entries\n",
      "intel_13_i7_unlocked.csv: 100 entries\n",
      "intel_13_i9.csv: 100 entries\n",
      "intel_14_i3.csv: 2 entries\n",
      "intel_14_i5.csv: 13 entries\n",
      "intel_14_i7.csv: 100 entries\n",
      "intel_14_i9.csv: 100 entries\n",
      "intel_14_i9_unlocked.csv: 100 entries\n",
      "intel_14_i9_unlocked_discrete_graphics.csv: 44 entries\n",
      "1811\n"
     ]
    }
   ],
   "source": [
    "import os\n",
    "import pandas as pd\n",
    "\n",
    "# Specify the folder containing the CSV files\n",
    "folder_path = r'D:\\Sentiment-analysis-of-Intel-Reviews\\Data'  # or 'D:\\\\Sentiment-analysis-of-Intel-Reviews\\\\Data'\n",
    "\n",
    "# Initialize a dictionary to store the counts\n",
    "entry_counts = {}\n",
    "total=0\n",
    "\n",
    "# Iterate through each file in the folder\n",
    "for filename in os.listdir(folder_path):\n",
    "    if filename.endswith('.csv'):\n",
    "        # Construct the full file path\n",
    "        file_path = os.path.join(folder_path, filename)\n",
    "        \n",
    "        # Read the CSV file\n",
    "        df = pd.read_csv(file_path)\n",
    "        \n",
    "        # Count the number of entries (rows)\n",
    "        entry_count = len(df)\n",
    "        \n",
    "        # Store the count in the dictionary\n",
    "        entry_counts[filename] = entry_count\n",
    "\n",
    "# Print the results\n",
    "for filename, count in entry_counts.items():\n",
    "    total+=count\n",
    "    print(f'{filename}: {count} entries')\n",
    "print(total)\n"
   ]
  },
  {
   "cell_type": "code",
   "execution_count": null,
   "metadata": {},
   "outputs": [],
   "source": []
  }
 ],
 "metadata": {
  "kernelspec": {
   "display_name": "Python 3",
   "language": "python",
   "name": "python3"
  },
  "language_info": {
   "codemirror_mode": {
    "name": "ipython",
    "version": 3
   },
   "file_extension": ".py",
   "mimetype": "text/x-python",
   "name": "python",
   "nbconvert_exporter": "python",
   "pygments_lexer": "ipython3",
   "version": "3.12.4"
  }
 },
 "nbformat": 4,
 "nbformat_minor": 2
}
