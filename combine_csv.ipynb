{
 "cells": [
  {
   "cell_type": "code",
   "execution_count": 1,
   "metadata": {},
   "outputs": [
    {
     "name": "stdout",
     "output_type": "stream",
     "text": [
      "Combined CSV files from User Reviews saved to User_rev.xlsx\n"
     ]
    },
    {
     "name": "stderr",
     "output_type": "stream",
     "text": [
      "c:\\Users\\prity\\AppData\\Local\\Programs\\Python\\Python312\\Lib\\site-packages\\openpyxl\\workbook\\child.py:99: UserWarning: Title is more than 31 characters. Some applications may not be able to read the file\n",
      "  warnings.warn(\"Title is more than 31 characters. Some applications may not be able to read the file\")\n",
      "c:\\Users\\prity\\AppData\\Local\\Programs\\Python\\Python312\\Lib\\site-packages\\openpyxl\\workbook\\child.py:99: UserWarning: Title is more than 31 characters. Some applications may not be able to read the file\n",
      "  warnings.warn(\"Title is more than 31 characters. Some applications may not be able to read the file\")\n",
      "c:\\Users\\prity\\AppData\\Local\\Programs\\Python\\Python312\\Lib\\site-packages\\openpyxl\\workbook\\child.py:99: UserWarning: Title is more than 31 characters. Some applications may not be able to read the file\n",
      "  warnings.warn(\"Title is more than 31 characters. Some applications may not be able to read the file\")\n",
      "c:\\Users\\prity\\AppData\\Local\\Programs\\Python\\Python312\\Lib\\site-packages\\openpyxl\\workbook\\child.py:99: UserWarning: Title is more than 31 characters. Some applications may not be able to read the file\n",
      "  warnings.warn(\"Title is more than 31 characters. Some applications may not be able to read the file\")\n",
      "c:\\Users\\prity\\AppData\\Local\\Programs\\Python\\Python312\\Lib\\site-packages\\openpyxl\\workbook\\child.py:99: UserWarning: Title is more than 31 characters. Some applications may not be able to read the file\n",
      "  warnings.warn(\"Title is more than 31 characters. Some applications may not be able to read the file\")\n",
      "c:\\Users\\prity\\AppData\\Local\\Programs\\Python\\Python312\\Lib\\site-packages\\openpyxl\\workbook\\child.py:99: UserWarning: Title is more than 31 characters. Some applications may not be able to read the file\n",
      "  warnings.warn(\"Title is more than 31 characters. Some applications may not be able to read the file\")\n"
     ]
    }
   ],
   "source": [
    "import pandas as pd\n",
    "import glob\n",
    "import os\n",
    "\n",
    "def combine_csv_to_excel(folder_path, output_file):\n",
    "    csv_files = glob.glob(os.path.join(folder_path, '*.csv'))\n",
    "    \n",
    "    with pd.ExcelWriter(output_file, engine='openpyxl') as writer:\n",
    "        for csv_file in csv_files:\n",
    "            sheet_name = os.path.splitext(os.path.basename(csv_file))[0]\n",
    "            df = pd.read_csv(csv_file)\n",
    "            df.to_excel(writer, sheet_name=sheet_name, index=False)\n",
    "\n",
    "    print(f\"Combined CSV files from {folder_path} saved to {output_file}\")\n",
    "\n",
    "folder_path = 'User Reviews'\n",
    "output_file = 'User_rev.xlsx'\n",
    "\n",
    "combine_csv_to_excel(folder_path, output_file)\n"
   ]
  },
  {
   "cell_type": "code",
   "execution_count": 5,
   "metadata": {},
   "outputs": [
    {
     "name": "stdout",
     "output_type": "stream",
     "text": [
      "Renamed: u12_i3_unlocked_discrete_graphics_1.csv -> u12_i3_udg_1.csv\n",
      "Renamed: u12_i3_unlocked_discrete_graphics_2.csv -> u12_i3_udg_2.csv\n",
      "Renamed: u12_i5_unlocked_discrete_graphics_1.csv -> u12_i5_udg_1.csv\n",
      "Renamed: u12_i5_unlocked_discrete_graphics_2.csv -> u12_i5_udg_2.csv\n",
      "Renamed: u12_i7_unlocked_discrete_graphics.csv -> u12_i7_udg.csv\n",
      "Renamed: u14_i9_unlocked_discrete_graphics.csv -> u14_i9_udg.csv\n"
     ]
    }
   ],
   "source": [
    "import os\n",
    "#This was used to rename the files for easier handling\n",
    "def rename_csv_files(folder_path):\n",
    "    files = os.listdir(folder_path)\n",
    "    \n",
    "    for filename in files:\n",
    "        if filename.endswith('.csv') and 'unlocked' in filename:\n",
    "            new_filename = filename.replace('unlocked', 'u')\n",
    "            old_file_path = os.path.join(folder_path, filename)\n",
    "            new_file_path = os.path.join(folder_path, new_filename)\n",
    "            os.rename(old_file_path, new_file_path)\n",
    "            print(f\"Renamed: {filename} -> {new_filename}\")\n",
    "\n",
    "folder_path = 'User Reviews'\n",
    "\n",
    "rename_csv_files(folder_path)\n"
   ]
  },
  {
   "cell_type": "code",
   "execution_count": null,
   "metadata": {},
   "outputs": [],
   "source": []
  }
 ],
 "metadata": {
  "kernelspec": {
   "display_name": "Python 3",
   "language": "python",
   "name": "python3"
  },
  "language_info": {
   "codemirror_mode": {
    "name": "ipython",
    "version": 3
   },
   "file_extension": ".py",
   "mimetype": "text/x-python",
   "name": "python",
   "nbconvert_exporter": "python",
   "pygments_lexer": "ipython3",
   "version": "3.12.4"
  }
 },
 "nbformat": 4,
 "nbformat_minor": 2
}
